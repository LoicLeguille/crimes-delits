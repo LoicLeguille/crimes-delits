{
 "cells": [
  {
   "cell_type": "markdown",
   "metadata": {},
   "source": [
    "# TODO: module docstrings use markdown, change those docstrings to fit better."
   ]
  },
  {
   "cell_type": "code",
   "execution_count": 1,
   "metadata": {},
   "outputs": [],
   "source": [
    "# Project: CrimesDelits\n",
    "# Creation Date: 2023-10-11\n",
    "# History:\n",
    "######################################################################################################################################################\n",
    "#   DATE            AUTHOR      VERSION     ACTION\n",
    "#   2023-10-11      LLEG        1.0.0       Creation\n",
    "\n",
    "import time\n",
    "import logging\n",
    "\n",
    "import matplotlib.pyplot as plt\n",
    "import pandas as pd\n",
    "import seaborn as sns\n",
    "\n",
    "from utils.log_config import Logging\n",
    "from utils.constant import Constant\n",
    "from utils.functions import download_file, read_xlsx"
   ]
  },
  {
   "cell_type": "code",
   "execution_count": 1,
   "metadata": {},
   "outputs": [],
   "source": [
    "# load logging config\n",
    "Logging.create_log_folder()\n",
    "Logging.load_logging_config(\"./conf/logging.json\")\n",
    "log = logging.getLogger(__name__)"
   ]
  },
  {
   "cell_type": "code",
   "execution_count": 1,
   "metadata": {},
   "outputs": [],
   "source": [
    "starting_time = time.time()\n",
    "log.debug('Start')"
   ]
  },
  {
   "cell_type": "code",
   "execution_count": 1,
   "metadata": {},
   "outputs": [],
   "source": [
    "# call other modules here\n",
    "# ...\n",
    "# ..."
   ]
  },
  {
   "cell_type": "code",
   "execution_count": 1,
   "metadata": {},
   "outputs": [
    {
     "name": "stdout",
     "output_type": "stream",
     "text": [
      "[INFO] 2023-11-22 21:42:49,622 utils.functions.download_file() 34: crimes-delits.xlsx file already exists\n",
      "[INFO] 2023-11-22 21:42:49,622 utils.functions.download_file() 34: documentation.docx file already exists\n",
      "[INFO] 2023-11-22 21:42:49,623 utils.functions.download_file() 34: instructions.pdf file already exists\n"
     ]
    }
   ],
   "source": [
    "download_file(url=Constant.DATA_URL, filepath=Constant.DATA_FILE)\n",
    "download_file(url=Constant.DOCUMENTATION_URL, filepath=Constant.DOCUMENTATION_FILE)\n",
    "download_file(url=Constant.INSTRUCTIONS_URL, filepath=Constant.INSTRUCTIONS_FILE)"
   ]
  },
  {
   "cell_type": "code",
   "execution_count": 1,
   "metadata": {},
   "outputs": [],
   "source": [
    "dict_df = read_xlsx(Constant.DATA_FILE)"
   ]
  },
  {
   "cell_type": "code",
   "execution_count": 1,
   "metadata": {},
   "outputs": [
    {
     "name": "stdout",
     "output_type": "stream",
     "text": [
      "index: 43, total: 3342820.0\n",
      "index: 37, total: 2586123.0\n",
      "index: 7, total: 2436894.0\n",
      "index: 91, total: 2238067.0\n",
      "index: 27, total: 2157769.0\n",
      "index: 42, total: 1873313.0\n",
      "index: 57, total: 1727518.0\n",
      "index: 32, total: 1317596.0\n",
      "index: 107, total: 1248000.0\n",
      "index: 67, total: 1121396.0\n",
      "index: 12, total: 1073885.0\n",
      "index: 38, total: 1028597.0\n",
      "index: 35, total: 1017991.0\n",
      "index: 68, total: 998464.0\n",
      "index: 29, total: 674818.0\n",
      "index: 89, total: 654977.0\n",
      "index: 41, total: 634959.0\n",
      "index: 33, total: 615282.0\n",
      "index: 30, total: 595857.0\n",
      "index: 90, total: 560966.0\n",
      "index: 36, total: 554876.0\n",
      "index: 13, total: 515233.0\n",
      "index: 26, total: 468801.0\n",
      "index: 52, total: 437378.0\n",
      "index: 25, total: 414864.0\n",
      "index: 44, total: 390547.0\n",
      "index: 66, total: 357914.0\n",
      "index: 74, total: 349581.0\n",
      "index: 73, total: 330563.0\n",
      "index: 53, total: 312936.0\n",
      "index: 63, total: 300613.0\n",
      "index: 72, total: 274907.0\n",
      "index: 56, total: 217308.0\n",
      "index: 28, total: 186696.0\n",
      "index: 69, total: 173555.0\n",
      "index: 49, total: 150690.0\n",
      "index: 39, total: 139699.0\n",
      "index: 50, total: 134051.0\n",
      "index: 11, total: 133474.0\n",
      "index: 54, total: 129749.0\n",
      "index: 14, total: 128515.0\n",
      "index: 106, total: 110002.0\n",
      "index: 48, total: 101082.0\n",
      "index: 55, total: 99908.0\n",
      "index: 93, total: 95807.0\n",
      "index: 47, total: 94913.0\n",
      "index: 40, total: 88414.0\n",
      "index: 46, total: 86761.0\n",
      "index: 31, total: 84434.0\n",
      "index: 85, total: 83518.0\n",
      "index: 81, total: 64955.0\n",
      "index: 62, total: 55600.0\n",
      "index: 22, total: 54446.0\n",
      "index: 70, total: 45440.0\n",
      "index: 83, total: 45049.0\n",
      "index: 58, total: 45040.0\n",
      "index: 92, total: 44175.0\n",
      "index: 104, total: 41402.0\n",
      "index: 71, total: 39364.0\n",
      "index: 78, total: 39081.0\n",
      "index: 82, total: 36308.0\n",
      "index: 10, total: 35439.0\n",
      "index: 94, total: 28660.0\n",
      "index: 79, total: 28216.0\n",
      "index: 5, total: 22939.0\n",
      "index: 86, total: 21349.0\n",
      "index: 87, total: 18807.0\n",
      "index: 16, total: 17899.0\n",
      "index: 24, total: 17857.0\n",
      "index: 19, total: 17335.0\n",
      "index: 98, total: 15686.0\n",
      "index: 59, total: 15395.0\n",
      "index: 103, total: 14089.0\n",
      "index: 61, total: 13145.0\n",
      "index: 84, total: 12489.0\n",
      "index: 75, total: 10777.0\n",
      "index: 77, total: 10075.0\n",
      "index: 23, total: 8944.0\n",
      "index: 101, total: 8748.0\n",
      "index: 20, total: 7075.0\n",
      "index: 3, total: 7049.0\n",
      "index: 105, total: 6861.0\n",
      "index: 18, total: 6523.0\n",
      "index: 21, total: 6348.0\n",
      "index: 45, total: 4704.0\n",
      "index: 80, total: 3840.0\n",
      "index: 60, total: 3360.0\n",
      "index: 88, total: 2654.0\n",
      "index: 34, total: 2599.0\n",
      "index: 76, total: 2072.0\n",
      "index: 102, total: 1993.0\n",
      "index: 6, total: 1462.0\n",
      "index: 95, total: 1442.0\n",
      "index: 65, total: 1118.0\n",
      "index: 15, total: 1105.0\n",
      "index: 4, total: 1062.0\n",
      "index: 9, total: 784.0\n",
      "index: 8, total: 674.0\n",
      "index: 1, total: 641\n",
      "index: 51, total: 615.0\n",
      "index: 64, total: 335.0\n",
      "index: 2, total: 324.0\n",
      "index: 17, total: 207.0\n",
      "index: 96, total: 0.0\n",
      "index: 97, total: 0.0\n",
      "index: 99, total: 0.0\n",
      "index: 100, total: 0.0\n"
     ]
    }
   ],
   "source": [
    "total = dict((i, 0) for i in range(1, 108))\n",
    "\n",
    "for df in dict_df.values():\n",
    "    for index, _ in df.iterrows():\n",
    "        total[index] += df.loc[index, :].sum()\n",
    "\n",
    "total = dict(sorted(total.items(), key=lambda item: item[1], reverse=True))\n",
    "\n",
    "for key, value in total.items():\n",
    "    print(f\"index: {key}, total: {value}\")"
   ]
  },
  {
   "cell_type": "code",
   "execution_count": 1,
   "metadata": {},
   "outputs": [
    {
     "data": {
      "text/html": [
       "<div>\n",
       "<style scoped>\n",
       "    .dataframe tbody tr th:only-of-type {\n",
       "        vertical-align: middle;\n",
       "    }\n",
       "\n",
       "    .dataframe tbody tr th {\n",
       "        vertical-align: top;\n",
       "    }\n",
       "\n",
       "    .dataframe thead th {\n",
       "        text-align: right;\n",
       "    }\n",
       "</style>\n",
       "<table border=\"1\" class=\"dataframe\">\n",
       "  <thead>\n",
       "    <tr style=\"text-align: right;\">\n",
       "      <th></th>\n",
       "      <th>services</th>\n",
       "      <th>year</th>\n",
       "      <th>total</th>\n",
       "    </tr>\n",
       "  </thead>\n",
       "  <tbody>\n",
       "    <tr>\n",
       "      <th>0</th>\n",
       "      <td>PN</td>\n",
       "      <td>2013</td>\n",
       "      <td>123949.0</td>\n",
       "    </tr>\n",
       "    <tr>\n",
       "      <th>1</th>\n",
       "      <td>GN</td>\n",
       "      <td>2018</td>\n",
       "      <td>51848.0</td>\n",
       "    </tr>\n",
       "    <tr>\n",
       "      <th>2</th>\n",
       "      <td>PN</td>\n",
       "      <td>2017</td>\n",
       "      <td>124158.0</td>\n",
       "    </tr>\n",
       "    <tr>\n",
       "      <th>3</th>\n",
       "      <td>PN</td>\n",
       "      <td>2014</td>\n",
       "      <td>125523.0</td>\n",
       "    </tr>\n",
       "    <tr>\n",
       "      <th>4</th>\n",
       "      <td>GN</td>\n",
       "      <td>2019</td>\n",
       "      <td>51549.0</td>\n",
       "    </tr>\n",
       "    <tr>\n",
       "      <th>5</th>\n",
       "      <td>PN</td>\n",
       "      <td>2020</td>\n",
       "      <td>97896.0</td>\n",
       "    </tr>\n",
       "    <tr>\n",
       "      <th>6</th>\n",
       "      <td>PN</td>\n",
       "      <td>2016</td>\n",
       "      <td>121621.0</td>\n",
       "    </tr>\n",
       "    <tr>\n",
       "      <th>7</th>\n",
       "      <td>GN</td>\n",
       "      <td>2014</td>\n",
       "      <td>51092.0</td>\n",
       "    </tr>\n",
       "    <tr>\n",
       "      <th>8</th>\n",
       "      <td>GN</td>\n",
       "      <td>2017</td>\n",
       "      <td>53546.0</td>\n",
       "    </tr>\n",
       "    <tr>\n",
       "      <th>9</th>\n",
       "      <td>GN</td>\n",
       "      <td>2016</td>\n",
       "      <td>53289.0</td>\n",
       "    </tr>\n",
       "    <tr>\n",
       "      <th>10</th>\n",
       "      <td>PN</td>\n",
       "      <td>2012</td>\n",
       "      <td>122094.0</td>\n",
       "    </tr>\n",
       "    <tr>\n",
       "      <th>11</th>\n",
       "      <td>PN</td>\n",
       "      <td>2019</td>\n",
       "      <td>113920.0</td>\n",
       "    </tr>\n",
       "    <tr>\n",
       "      <th>12</th>\n",
       "      <td>GN</td>\n",
       "      <td>2012</td>\n",
       "      <td>39960.0</td>\n",
       "    </tr>\n",
       "    <tr>\n",
       "      <th>13</th>\n",
       "      <td>PN</td>\n",
       "      <td>2021</td>\n",
       "      <td>148187.0</td>\n",
       "    </tr>\n",
       "    <tr>\n",
       "      <th>14</th>\n",
       "      <td>GN</td>\n",
       "      <td>2013</td>\n",
       "      <td>46008.0</td>\n",
       "    </tr>\n",
       "    <tr>\n",
       "      <th>15</th>\n",
       "      <td>GN</td>\n",
       "      <td>2020</td>\n",
       "      <td>49122.0</td>\n",
       "    </tr>\n",
       "    <tr>\n",
       "      <th>16</th>\n",
       "      <td>PN</td>\n",
       "      <td>2015</td>\n",
       "      <td>125928.0</td>\n",
       "    </tr>\n",
       "    <tr>\n",
       "      <th>17</th>\n",
       "      <td>GN</td>\n",
       "      <td>2015</td>\n",
       "      <td>51330.0</td>\n",
       "    </tr>\n",
       "    <tr>\n",
       "      <th>18</th>\n",
       "      <td>PN</td>\n",
       "      <td>2018</td>\n",
       "      <td>122697.0</td>\n",
       "    </tr>\n",
       "    <tr>\n",
       "      <th>19</th>\n",
       "      <td>GN</td>\n",
       "      <td>2021</td>\n",
       "      <td>53801.0</td>\n",
       "    </tr>\n",
       "  </tbody>\n",
       "</table>\n",
       "</div>"
      ],
      "text/plain": [
       "   services  year     total\n",
       "0        PN  2013  123949.0\n",
       "1        GN  2018   51848.0\n",
       "2        PN  2017  124158.0\n",
       "3        PN  2014  125523.0\n",
       "4        GN  2019   51549.0\n",
       "5        PN  2020   97896.0\n",
       "6        PN  2016  121621.0\n",
       "7        GN  2014   51092.0\n",
       "8        GN  2017   53546.0\n",
       "9        GN  2016   53289.0\n",
       "10       PN  2012  122094.0\n",
       "11       PN  2019  113920.0\n",
       "12       GN  2012   39960.0\n",
       "13       PN  2021  148187.0\n",
       "14       GN  2013   46008.0\n",
       "15       GN  2020   49122.0\n",
       "16       PN  2015  125928.0\n",
       "17       GN  2015   51330.0\n",
       "18       PN  2018  122697.0\n",
       "19       GN  2021   53801.0"
      ]
     },
   "execution_count": 1,
     "metadata": {},
     "output_type": "execute_result"
    }
   ],
   "source": [
    "data = {(key[9:11], key[-4:], dict_df[key].loc[57, :].sum()) for key in dict_df.keys()}\n",
    "df = pd.DataFrame(data=data, columns=[\"services\", \"year\", \"total\"])\n",
    "df"
   ]
  },
  {
   "cell_type": "code",
   "execution_count": 1,
   "metadata": {},
   "outputs": [
    {
     "data": {
      "image/png": "[encoded data removed]",
      "text/plain": [
       "<Figure size 640x480 with 1 Axes>"
      ]
     },
     "metadata": {},
     "output_type": "display_data"
    }
   ],
   "source": [
    "sns.barplot(data=df, x=\"year\", y=\"total\", hue=\"services\", order=sorted(df[\"year\"]))\n",
    "plt.xticks(rotation=90)\n",
    "plt.show()"
   ]
  },
  {
   "cell_type": "code",
   "execution_count": 1,
   "metadata": {},
   "outputs": [],
   "source": [
    "# work with dafaframe of Services PN 2012 xlsx sheet\n",
    "current_df = dict_df.get('Services PN 2012')\n",
    "columns = current_df.columns\n",
    "\n",
    "# flatten MultiIndex to 'Départements' level\n",
    "current_df.columns = current_df.columns.get_level_values('Départements')"
   ]
  },
  {
   "cell_type": "code",
   "execution_count": 1,
   "metadata": {},
   "outputs": [
    {
     "data": {
      "image/png": "[encoded data removed]",
      "text/plain": [
       "<Figure size 640x480 with 1 Axes>"
      ]
     },
     "metadata": {},
     "output_type": "display_data"
    }
   ],
   "source": [
    "# plot a graph of summed data by department\n",
    "sns.barplot(current_df.loc[93, :][current_df.loc[93, :] != 0], estimator=sum, errorbar=None)\n",
    "plt.xticks(rotation=90)\n",
    "plt.show()"
   ]
  },
  {
   "cell_type": "code",
   "execution_count": 1,
   "metadata": {},
   "outputs": [],
   "source": [
    "# get back MultiIndex\n",
    "# current_df.columns = columns"
   ]
  },
  {
   "cell_type": "code",
   "execution_count": 1,
   "metadata": {},
   "outputs": [
    {
     "name": "stdout",
     "output_type": "stream",
     "text": [
      "[INFO] 2023-11-22 21:42:53,954 __main__.<module>() 2: Finished successfully in 4.34s\n"
     ]
    }
   ],
   "source": [
    "log.debug('End')\n",
    "log.info('Finished successfully in %.2fs', time.time() - starting_time)"
   ]
  }
 ],
 "metadata": {
  "kernelspec": {
   "display_name": ".venv",
   "language": "python",
   "name": "python3"
  },
  "language_info": {
   "codemirror_mode": {
    "name": "ipython",
    "version": 3
   },
   "file_extension": ".py",
   "mimetype": "text/x-python",
   "name": "python",
   "nbconvert_exporter": "python",
   "pygments_lexer": "ipython3",
   "version": "3.12.0"
  }
 },
 "nbformat": 4,
 "nbformat_minor": 2
}
